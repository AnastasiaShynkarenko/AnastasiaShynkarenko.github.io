{
  "nbformat": 4,
  "nbformat_minor": 0,
  "metadata": {
    "colab": {
      "provenance": [],
      "authorship_tag": "ABX9TyNunC1vHeuvcSPoBdqD2C6o",
      "include_colab_link": true
    },
    "kernelspec": {
      "name": "python3",
      "display_name": "Python 3"
    },
    "language_info": {
      "name": "python"
    }
  },
  "cells": [
    {
      "cell_type": "markdown",
      "metadata": {
        "id": "view-in-github",
        "colab_type": "text"
      },
      "source": [
        "<a href=\"https://colab.research.google.com/github/AnastasiaShynkarenko/AnastasiaShynkarenko.github.io/blob/master/lab1.ipynb\" target=\"_parent\"><img src=\"https://colab.research.google.com/assets/colab-badge.svg\" alt=\"Open In Colab\"/></a>"
      ]
    },
    {
      "cell_type": "code",
      "execution_count": 1,
      "metadata": {
        "id": "jcKG46zMxmlq"
      },
      "outputs": [],
      "source": [
        "%%capture\n",
        "from keras.datasets import mnist\n"
      ]
    },
    {
      "cell_type": "code",
      "source": [
        "(train_images, train_labels),(test_images, test_labels) = mnist.load_data()\n"
      ],
      "metadata": {
        "colab": {
          "base_uri": "https://localhost:8080/"
        },
        "id": "Ihaz2Q7J0Bzz",
        "outputId": "d68b417f-f1de-4636-8b2e-ac0c9560b0bb"
      },
      "execution_count": 2,
      "outputs": [
        {
          "output_type": "stream",
          "name": "stdout",
          "text": [
            "Downloading data from https://storage.googleapis.com/tensorflow/tf-keras-datasets/mnist.npz\n",
            "11490434/11490434 [==============================] - 1s 0us/step\n"
          ]
        }
      ]
    },
    {
      "cell_type": "code",
      "source": [
        "print(\"Розмірність навчального набору зображень:\", train_images.shape)\n",
        "print(\"Розмірність навчального набору міток:\", train_labels.shape)\n",
        "print(\"Розмірність тестового набору зображень:\", test_images.shape)\n",
        "print(\"Розмірність тестового набору міток:\", test_labels.shape)\n"
      ],
      "metadata": {
        "colab": {
          "base_uri": "https://localhost:8080/"
        },
        "id": "dH7vwy1N00mE",
        "outputId": "16ccef88-c63e-4c9d-e8f1-f87285d28c33"
      },
      "execution_count": 3,
      "outputs": [
        {
          "output_type": "stream",
          "name": "stdout",
          "text": [
            "Розмірність навчального набору зображень: (60000, 28, 28)\n",
            "Розмірність навчального набору міток: (60000,)\n",
            "Розмірність тестового набору зображень: (10000, 28, 28)\n",
            "Розмірність тестового набору міток: (10000,)\n"
          ]
        }
      ]
    },
    {
      "cell_type": "code",
      "source": [
        "import matplotlib.pyplot as plt\n",
        "for i in range(5):\n",
        "    plt.subplot(1, 5, i + 1)\n",
        "    plt.imshow(train_images[i], cmap='gray')\n",
        "    plt.title(f\"Мітка: {train_labels[i]}\")\n",
        "    plt.axis('off')\n",
        "\n",
        "plt.show()"
      ],
      "metadata": {
        "colab": {
          "base_uri": "https://localhost:8080/",
          "height": 144
        },
        "id": "YAW_cWed2xRQ",
        "outputId": "0a1aa0e9-6b1b-4470-c728-df45d36e4b33"
      },
      "execution_count": 4,
      "outputs": [
        {
          "output_type": "display_data",
          "data": {
            "text/plain": [
              "<Figure size 640x480 with 5 Axes>"
            ],
            "image/png": "[encoded data removed]"
          },
          "metadata": {}
        }
      ]
    },
    {
      "cell_type": "code",
      "source": [
        "train_images, test_images = train_images / 255.0, test_images / 255.0"
      ],
      "metadata": {
        "id": "kx-SZupi5oI7"
      },
      "execution_count": 5,
      "outputs": []
    },
    {
      "cell_type": "code",
      "source": [
        "from tensorflow.keras.models import Sequential\n",
        "from tensorflow.keras.layers import Flatten, Dense\n"
      ],
      "metadata": {
        "id": "inON8Zwy66nf"
      },
      "execution_count": 6,
      "outputs": []
    },
    {
      "cell_type": "code",
      "source": [
        "model = Sequential([\n",
        "    Flatten(input_shape=(28, 28)),\n",
        "    Dense(128, activation='relu'),\n",
        "    Dense(10, activation='softmax')\n",
        "])"
      ],
      "metadata": {
        "id": "3i0jHNHg7Q2X"
      },
      "execution_count": 7,
      "outputs": []
    },
    {
      "cell_type": "code",
      "source": [
        "model.compile(optimizer='adam',\n",
        "              loss='sparse_categorical_crossentropy',\n",
        "              metrics=['accuracy'])\n"
      ],
      "metadata": {
        "id": "TCxEB3Rw9-bM"
      },
      "execution_count": 8,
      "outputs": []
    },
    {
      "cell_type": "code",
      "source": [
        "model.fit(train_images, train_labels, epochs=5)\n"
      ],
      "metadata": {
        "colab": {
          "base_uri": "https://localhost:8080/"
        },
        "id": "7OgQPqhl-y3O",
        "outputId": "249978d9-7345-4e52-b332-16cc3e2207a7"
      },
      "execution_count": 9,
      "outputs": [
        {
          "output_type": "stream",
          "name": "stdout",
          "text": [
            "Epoch 1/5\n",
            "1875/1875 [==============================] - 8s 4ms/step - loss: 0.2566 - accuracy: 0.9260\n",
            "Epoch 2/5\n",
            "1875/1875 [==============================] - 6s 3ms/step - loss: 0.1145 - accuracy: 0.9663\n",
            "Epoch 3/5\n",
            "1875/1875 [==============================] - 7s 4ms/step - loss: 0.0774 - accuracy: 0.9770\n",
            "Epoch 4/5\n",
            "1875/1875 [==============================] - 6s 3ms/step - loss: 0.0570 - accuracy: 0.9822\n",
            "Epoch 5/5\n",
            "1875/1875 [==============================] - 7s 4ms/step - loss: 0.0454 - accuracy: 0.9860\n"
          ]
        },
        {
          "output_type": "execute_result",
          "data": {
            "text/plain": [
              "<keras.src.callbacks.History at 0x78767bbd4b80>"
            ]
          },
          "metadata": {},
          "execution_count": 9
        }
      ]
    },
    {
      "cell_type": "code",
      "source": [
        "model.fit(train_images, train_labels, epochs=10)"
      ],
      "metadata": {
        "colab": {
          "base_uri": "https://localhost:8080/"
        },
        "id": "F2GjeSyV_Eel",
        "outputId": "17e07484-bb87-4f79-f9f7-aa8c946dbb45"
      },
      "execution_count": 10,
      "outputs": [
        {
          "output_type": "stream",
          "name": "stdout",
          "text": [
            "Epoch 1/10\n",
            "1875/1875 [==============================] - 6s 3ms/step - loss: 0.0352 - accuracy: 0.9893\n",
            "Epoch 2/10\n",
            "1875/1875 [==============================] - 7s 4ms/step - loss: 0.0290 - accuracy: 0.9909\n",
            "Epoch 3/10\n",
            "1875/1875 [==============================] - 6s 3ms/step - loss: 0.0241 - accuracy: 0.9922\n",
            "Epoch 4/10\n",
            "1875/1875 [==============================] - 7s 4ms/step - loss: 0.0194 - accuracy: 0.9940\n",
            "Epoch 5/10\n",
            "1875/1875 [==============================] - 6s 3ms/step - loss: 0.0162 - accuracy: 0.9949\n",
            "Epoch 6/10\n",
            "1875/1875 [==============================] - 7s 4ms/step - loss: 0.0142 - accuracy: 0.9958\n",
            "Epoch 7/10\n",
            "1875/1875 [==============================] - 6s 3ms/step - loss: 0.0122 - accuracy: 0.9961\n",
            "Epoch 8/10\n",
            "1875/1875 [==============================] - 7s 4ms/step - loss: 0.0107 - accuracy: 0.9965\n",
            "Epoch 9/10\n",
            "1875/1875 [==============================] - 6s 3ms/step - loss: 0.0089 - accuracy: 0.9970\n",
            "Epoch 10/10\n",
            "1875/1875 [==============================] - 7s 4ms/step - loss: 0.0080 - accuracy: 0.9974\n"
          ]
        },
        {
          "output_type": "execute_result",
          "data": {
            "text/plain": [
              "<keras.src.callbacks.History at 0x78764fd75cf0>"
            ]
          },
          "metadata": {},
          "execution_count": 10
        }
      ]
    },
    {
      "cell_type": "code",
      "source": [
        "test_loss, test_accuracy = model.evaluate(test_images, test_labels)\n",
        "print(f\"Втрати на тестових даних: {test_loss}\")\n",
        "print(f\"Точність на тестових даних: {test_accuracy}\")"
      ],
      "metadata": {
        "colab": {
          "base_uri": "https://localhost:8080/"
        },
        "id": "ccEk1Ca3BXBK",
        "outputId": "b765f913-0f6e-4188-e70a-51ad9603c54f"
      },
      "execution_count": 11,
      "outputs": [
        {
          "output_type": "stream",
          "name": "stdout",
          "text": [
            "313/313 [==============================] - 1s 2ms/step - loss: 0.0940 - accuracy: 0.9778\n",
            "Втрати на тестових даних: 0.09400752186775208\n",
            "Точність на тестових даних: 0.9778000116348267\n"
          ]
        }
      ]
    },
    {
      "cell_type": "code",
      "source": [
        "predictions = model.predict(test_images)\n"
      ],
      "metadata": {
        "colab": {
          "base_uri": "https://localhost:8080/"
        },
        "id": "3Susw7zEBvzW",
        "outputId": "63e851cd-a2c3-4b53-c86d-974bb2b88251"
      },
      "execution_count": 12,
      "outputs": [
        {
          "output_type": "stream",
          "name": "stdout",
          "text": [
            "313/313 [==============================] - 1s 2ms/step\n"
          ]
        }
      ]
    },
    {
      "cell_type": "code",
      "source": [
        "model.fit(test_images, test_labels, epochs=10)"
      ],
      "metadata": {
        "colab": {
          "base_uri": "https://localhost:8080/"
        },
        "id": "4gtNL4XiCpXN",
        "outputId": "4150d2e5-7da3-47c2-e52e-d6a66ab85c9a"
      },
      "execution_count": 13,
      "outputs": [
        {
          "output_type": "stream",
          "name": "stdout",
          "text": [
            "Epoch 1/10\n",
            "313/313 [==============================] - 1s 3ms/step - loss: 0.0955 - accuracy: 0.9752\n",
            "Epoch 2/10\n",
            "313/313 [==============================] - 1s 3ms/step - loss: 0.0205 - accuracy: 0.9928\n",
            "Epoch 3/10\n",
            "313/313 [==============================] - 1s 3ms/step - loss: 0.0072 - accuracy: 0.9983\n",
            "Epoch 4/10\n",
            "313/313 [==============================] - 1s 3ms/step - loss: 0.0032 - accuracy: 0.9997\n",
            "Epoch 5/10\n",
            "313/313 [==============================] - 1s 3ms/step - loss: 0.0018 - accuracy: 0.9999\n",
            "Epoch 6/10\n",
            "313/313 [==============================] - 1s 3ms/step - loss: 0.0013 - accuracy: 1.0000\n",
            "Epoch 7/10\n",
            "313/313 [==============================] - 1s 3ms/step - loss: 9.9267e-04 - accuracy: 1.0000\n",
            "Epoch 8/10\n",
            "313/313 [==============================] - 1s 4ms/step - loss: 8.5517e-04 - accuracy: 1.0000\n",
            "Epoch 9/10\n",
            "313/313 [==============================] - 2s 5ms/step - loss: 7.2241e-04 - accuracy: 1.0000\n",
            "Epoch 10/10\n",
            "313/313 [==============================] - 1s 4ms/step - loss: 6.1304e-04 - accuracy: 1.0000\n"
          ]
        },
        {
          "output_type": "execute_result",
          "data": {
            "text/plain": [
              "<keras.src.callbacks.History at 0x78767ba4a890>"
            ]
          },
          "metadata": {},
          "execution_count": 13
        }
      ]
    },
    {
      "cell_type": "code",
      "source": [
        "test_loss, test_accuracy = model.evaluate(test_images, test_labels)\n",
        "print(f\"Втрати на тестових даних: {test_loss}\")\n",
        "print(f\"Точність на тестових даних: {test_accuracy}\")\n"
      ],
      "metadata": {
        "colab": {
          "base_uri": "https://localhost:8080/"
        },
        "id": "eg_be9H0DaY6",
        "outputId": "2d9294ee-c79a-4934-b26d-23ce85b653ff"
      },
      "execution_count": 14,
      "outputs": [
        {
          "output_type": "stream",
          "name": "stdout",
          "text": [
            "313/313 [==============================] - 1s 2ms/step - loss: 4.9852e-04 - accuracy: 1.0000\n",
            "Втрати на тестових даних: 0.0004985235282219946\n",
            "Точність на тестових даних: 1.0\n"
          ]
        }
      ]
    },
    {
      "cell_type": "code",
      "source": [
        "\n",
        "predictions = model.predict(test_images)\n",
        "\n",
        "\n",
        "first_prediction = predictions[0]\n",
        "\n",
        "print(\"Перше передбачення:\", first_prediction)\n"
      ],
      "metadata": {
        "colab": {
          "base_uri": "https://localhost:8080/"
        },
        "id": "ZrbDZtxYE0Xv",
        "outputId": "20d8ee42-170e-4848-a63b-b51756f17c3d"
      },
      "execution_count": 16,
      "outputs": [
        {
          "output_type": "stream",
          "name": "stdout",
          "text": [
            "313/313 [==============================] - 1s 2ms/step\n",
            "Перше передбачення: [7.9719294e-11 1.3292541e-13 1.9009085e-09 5.0751819e-06 6.9017012e-17\n",
            " 3.1269621e-13 1.9808196e-18 9.9999481e-01 1.8333722e-09 9.0842729e-09]\n"
          ]
        }
      ]
    },
    {
      "cell_type": "code",
      "source": [
        "import matplotlib.pyplot as plt\n",
        "history = model.fit(train_images, train_labels, epochs=10, validation_data=(test_images, test_labels))\n",
        "train_accuracy = history.history['accuracy']\n",
        "test_accuracy = history.history['val_accuracy']\n",
        "epochs = range(1, len(train_accuracy) + 1)\n",
        "plt.figure(figsize=(10, 5))\n",
        "plt.plot(epochs, train_accuracy, 'bo-', label='Точність на навчанні')\n",
        "plt.plot(epochs, test_accuracy, 'ro-', label='Точність на тестах')\n",
        "plt.title('Точність на навчанні та тестах відносно кількості епох')\n",
        "plt.xlabel('Епохи')\n",
        "plt.ylabel('Точність')\n",
        "plt.legend()\n",
        "plt.grid()\n",
        "plt.show()\n"
      ],
      "metadata": {
        "colab": {
          "base_uri": "https://localhost:8080/",
          "height": 834
        },
        "id": "YXcGdkFBF8mT",
        "outputId": "f9801f0a-bdf7-4b0d-bbd2-66050ab875db"
      },
      "execution_count": 17,
      "outputs": [
        {
          "output_type": "stream",
          "name": "stdout",
          "text": [
            "Epoch 1/10\n",
            "1875/1875 [==============================] - 12s 6ms/step - loss: 0.0185 - accuracy: 0.9939 - val_loss: 0.0302 - val_accuracy: 0.9905\n",
            "Epoch 2/10\n",
            "1875/1875 [==============================] - 8s 4ms/step - loss: 0.0060 - accuracy: 0.9982 - val_loss: 0.0328 - val_accuracy: 0.9897\n",
            "Epoch 3/10\n",
            "1875/1875 [==============================] - 6s 3ms/step - loss: 0.0063 - accuracy: 0.9980 - val_loss: 0.0406 - val_accuracy: 0.9890\n",
            "Epoch 4/10\n",
            "1875/1875 [==============================] - 8s 4ms/step - loss: 0.0052 - accuracy: 0.9986 - val_loss: 0.0405 - val_accuracy: 0.9884\n",
            "Epoch 5/10\n",
            "1875/1875 [==============================] - 6s 3ms/step - loss: 0.0067 - accuracy: 0.9979 - val_loss: 0.0532 - val_accuracy: 0.9855\n",
            "Epoch 6/10\n",
            "1875/1875 [==============================] - 8s 4ms/step - loss: 0.0060 - accuracy: 0.9981 - val_loss: 0.0550 - val_accuracy: 0.9865\n",
            "Epoch 7/10\n",
            "1875/1875 [==============================] - 7s 4ms/step - loss: 0.0030 - accuracy: 0.9992 - val_loss: 0.0505 - val_accuracy: 0.9877\n",
            "Epoch 8/10\n",
            "1875/1875 [==============================] - 7s 4ms/step - loss: 0.0075 - accuracy: 0.9975 - val_loss: 0.0573 - val_accuracy: 0.9860\n",
            "Epoch 9/10\n",
            "1875/1875 [==============================] - 8s 4ms/step - loss: 0.0043 - accuracy: 0.9987 - val_loss: 0.0621 - val_accuracy: 0.9852\n",
            "Epoch 10/10\n",
            "1875/1875 [==============================] - 6s 3ms/step - loss: 0.0032 - accuracy: 0.9991 - val_loss: 0.0593 - val_accuracy: 0.9861\n"
          ]
        },
        {
          "output_type": "display_data",
          "data": {
            "text/plain": [
              "<Figure size 1000x500 with 1 Axes>"
            ],
            "image/png": "[encoded data removed]"
          },
          "metadata": {}
        }
      ]
    }
  ]
}